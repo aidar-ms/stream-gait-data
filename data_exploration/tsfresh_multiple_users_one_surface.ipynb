{
 "cells": [
  {
   "cell_type": "markdown",
   "metadata": {},
   "source": [
    "New approach: create a new dataset of limited samples per each walking surface from each user: 1000 points per each walking surface (total of 10) from each user (1-30).\n",
    "\n",
    "As a result, we'll have 1000 * 10 * 30 = 300000 data points. This should be enough for TSFresh to swallow and not crash my laptop"
   ]
  },
  {
   "cell_type": "markdown",
   "metadata": {},
   "source": []
  }
 ],
 "metadata": {
  "language_info": {
   "name": "python"
  },
  "orig_nbformat": 4
 },
 "nbformat": 4,
 "nbformat_minor": 2
}
