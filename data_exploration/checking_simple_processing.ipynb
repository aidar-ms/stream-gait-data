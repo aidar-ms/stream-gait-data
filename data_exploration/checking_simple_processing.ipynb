{
 "cells": [
  {
   "cell_type": "code",
   "execution_count": 1,
   "metadata": {},
   "outputs": [],
   "source": [
    "import json\n",
    "import pandas as pd\n",
    "import numpy as np\n",
    "from sklearn.linear_model import SGDClassifier\n",
    "from sklearn.metrics import classification_report"
   ]
  },
  {
   "cell_type": "code",
   "execution_count": 2,
   "metadata": {},
   "outputs": [],
   "source": [
    "with open(\"processed_data/simple_processing/test_file.txt\") as f:\n",
    "    data = [json.loads(line) for line in f]"
   ]
  },
  {
   "cell_type": "code",
   "execution_count": 12,
   "metadata": {},
   "outputs": [],
   "source": [
    "def should_be_dropped(c: str):\n",
    "    return (\n",
    "        c.endswith(\"sum_values\") or c.endswith(\"length\")\n",
    "    )\n",
    "\n",
    "def get_dfs(record):\n",
    "    f = pd.DataFrame(record[\"features\"])\n",
    "    f = f[[c for c in f.columns if not should_be_dropped(c)]]\n",
    "    c = pd.DataFrame(record[\"classes\"])\n",
    "    return f, c"
   ]
  },
  {
   "cell_type": "code",
   "execution_count": 13,
   "metadata": {},
   "outputs": [],
   "source": [
    "f0, c0 = get_dfs(data[0])"
   ]
  },
  {
   "cell_type": "code",
   "execution_count": 14,
   "metadata": {},
   "outputs": [
    {
     "data": {
      "text/html": [
       "<div>\n",
       "<style scoped>\n",
       "    .dataframe tbody tr th:only-of-type {\n",
       "        vertical-align: middle;\n",
       "    }\n",
       "\n",
       "    .dataframe tbody tr th {\n",
       "        vertical-align: top;\n",
       "    }\n",
       "\n",
       "    .dataframe thead th {\n",
       "        text-align: right;\n",
       "    }\n",
       "</style>\n",
       "<table border=\"1\" class=\"dataframe\">\n",
       "  <thead>\n",
       "    <tr style=\"text-align: right;\">\n",
       "      <th></th>\n",
       "      <th>Acc_X__median</th>\n",
       "      <th>Acc_X__mean</th>\n",
       "      <th>Acc_X__standard_deviation</th>\n",
       "      <th>Acc_X__variance</th>\n",
       "      <th>Acc_X__root_mean_square</th>\n",
       "      <th>Acc_X__maximum</th>\n",
       "      <th>Acc_X__absolute_maximum</th>\n",
       "      <th>Acc_X__minimum</th>\n",
       "      <th>Acc_Y__median</th>\n",
       "      <th>Acc_Y__mean</th>\n",
       "      <th>...</th>\n",
       "      <th>Mag_Y__absolute_maximum</th>\n",
       "      <th>Mag_Y__minimum</th>\n",
       "      <th>Mag_Z__median</th>\n",
       "      <th>Mag_Z__mean</th>\n",
       "      <th>Mag_Z__standard_deviation</th>\n",
       "      <th>Mag_Z__variance</th>\n",
       "      <th>Mag_Z__root_mean_square</th>\n",
       "      <th>Mag_Z__maximum</th>\n",
       "      <th>Mag_Z__absolute_maximum</th>\n",
       "      <th>Mag_Z__minimum</th>\n",
       "    </tr>\n",
       "  </thead>\n",
       "  <tbody>\n",
       "    <tr>\n",
       "      <th>1</th>\n",
       "      <td>-9.522894</td>\n",
       "      <td>-9.508024</td>\n",
       "      <td>0.098958</td>\n",
       "      <td>0.009793</td>\n",
       "      <td>9.508539</td>\n",
       "      <td>-9.249703</td>\n",
       "      <td>9.753536</td>\n",
       "      <td>-9.753536</td>\n",
       "      <td>2.104248</td>\n",
       "      <td>2.095773</td>\n",
       "      <td>...</td>\n",
       "      <td>0.616455</td>\n",
       "      <td>-0.616455</td>\n",
       "      <td>0.059570</td>\n",
       "      <td>0.057395</td>\n",
       "      <td>0.010487</td>\n",
       "      <td>0.000110</td>\n",
       "      <td>0.058345</td>\n",
       "      <td>0.074463</td>\n",
       "      <td>0.074463</td>\n",
       "      <td>0.038818</td>\n",
       "    </tr>\n",
       "    <tr>\n",
       "      <th>2</th>\n",
       "      <td>9.418891</td>\n",
       "      <td>9.389957</td>\n",
       "      <td>0.384537</td>\n",
       "      <td>0.147869</td>\n",
       "      <td>9.397827</td>\n",
       "      <td>10.374157</td>\n",
       "      <td>10.374157</td>\n",
       "      <td>8.123430</td>\n",
       "      <td>-1.605325</td>\n",
       "      <td>-1.642229</td>\n",
       "      <td>...</td>\n",
       "      <td>0.281250</td>\n",
       "      <td>-0.281250</td>\n",
       "      <td>-0.646240</td>\n",
       "      <td>-0.645868</td>\n",
       "      <td>0.003031</td>\n",
       "      <td>0.000009</td>\n",
       "      <td>0.645875</td>\n",
       "      <td>-0.637695</td>\n",
       "      <td>0.652588</td>\n",
       "      <td>-0.652588</td>\n",
       "    </tr>\n",
       "    <tr>\n",
       "      <th>3</th>\n",
       "      <td>9.499529</td>\n",
       "      <td>9.480108</td>\n",
       "      <td>0.097870</td>\n",
       "      <td>0.009579</td>\n",
       "      <td>9.480614</td>\n",
       "      <td>9.658154</td>\n",
       "      <td>9.658154</td>\n",
       "      <td>9.248930</td>\n",
       "      <td>-1.802204</td>\n",
       "      <td>-1.834136</td>\n",
       "      <td>...</td>\n",
       "      <td>0.224365</td>\n",
       "      <td>-0.224365</td>\n",
       "      <td>-0.253418</td>\n",
       "      <td>-0.235181</td>\n",
       "      <td>0.057573</td>\n",
       "      <td>0.003315</td>\n",
       "      <td>0.242126</td>\n",
       "      <td>-0.102783</td>\n",
       "      <td>0.306152</td>\n",
       "      <td>-0.306152</td>\n",
       "    </tr>\n",
       "    <tr>\n",
       "      <th>4</th>\n",
       "      <td>9.481887</td>\n",
       "      <td>9.483041</td>\n",
       "      <td>0.059116</td>\n",
       "      <td>0.003495</td>\n",
       "      <td>9.483225</td>\n",
       "      <td>9.678227</td>\n",
       "      <td>9.678227</td>\n",
       "      <td>9.363868</td>\n",
       "      <td>-2.552054</td>\n",
       "      <td>-2.521727</td>\n",
       "      <td>...</td>\n",
       "      <td>1.314209</td>\n",
       "      <td>0.989258</td>\n",
       "      <td>2.476929</td>\n",
       "      <td>2.479356</td>\n",
       "      <td>0.024248</td>\n",
       "      <td>0.000588</td>\n",
       "      <td>2.479474</td>\n",
       "      <td>2.533203</td>\n",
       "      <td>2.533203</td>\n",
       "      <td>2.429199</td>\n",
       "    </tr>\n",
       "  </tbody>\n",
       "</table>\n",
       "<p>4 rows × 72 columns</p>\n",
       "</div>"
      ],
      "text/plain": [
       "   Acc_X__median  Acc_X__mean  Acc_X__standard_deviation  Acc_X__variance  \\\n",
       "1      -9.522894    -9.508024                   0.098958         0.009793   \n",
       "2       9.418891     9.389957                   0.384537         0.147869   \n",
       "3       9.499529     9.480108                   0.097870         0.009579   \n",
       "4       9.481887     9.483041                   0.059116         0.003495   \n",
       "\n",
       "   Acc_X__root_mean_square  Acc_X__maximum  Acc_X__absolute_maximum  \\\n",
       "1                 9.508539       -9.249703                 9.753536   \n",
       "2                 9.397827       10.374157                10.374157   \n",
       "3                 9.480614        9.658154                 9.658154   \n",
       "4                 9.483225        9.678227                 9.678227   \n",
       "\n",
       "   Acc_X__minimum  Acc_Y__median  Acc_Y__mean  ...  Mag_Y__absolute_maximum  \\\n",
       "1       -9.753536       2.104248     2.095773  ...                 0.616455   \n",
       "2        8.123430      -1.605325    -1.642229  ...                 0.281250   \n",
       "3        9.248930      -1.802204    -1.834136  ...                 0.224365   \n",
       "4        9.363868      -2.552054    -2.521727  ...                 1.314209   \n",
       "\n",
       "   Mag_Y__minimum  Mag_Z__median  Mag_Z__mean  Mag_Z__standard_deviation  \\\n",
       "1       -0.616455       0.059570     0.057395                   0.010487   \n",
       "2       -0.281250      -0.646240    -0.645868                   0.003031   \n",
       "3       -0.224365      -0.253418    -0.235181                   0.057573   \n",
       "4        0.989258       2.476929     2.479356                   0.024248   \n",
       "\n",
       "   Mag_Z__variance  Mag_Z__root_mean_square  Mag_Z__maximum  \\\n",
       "1         0.000110                 0.058345        0.074463   \n",
       "2         0.000009                 0.645875       -0.637695   \n",
       "3         0.003315                 0.242126       -0.102783   \n",
       "4         0.000588                 2.479474        2.533203   \n",
       "\n",
       "   Mag_Z__absolute_maximum  Mag_Z__minimum  \n",
       "1                 0.074463        0.038818  \n",
       "2                 0.652588       -0.652588  \n",
       "3                 0.306152       -0.306152  \n",
       "4                 2.533203        2.429199  \n",
       "\n",
       "[4 rows x 72 columns]"
      ]
     },
     "execution_count": 14,
     "metadata": {},
     "output_type": "execute_result"
    }
   ],
   "source": [
    "f0"
   ]
  },
  {
   "cell_type": "code",
   "execution_count": 15,
   "metadata": {},
   "outputs": [
    {
     "data": {
      "text/html": [
       "<div>\n",
       "<style scoped>\n",
       "    .dataframe tbody tr th:only-of-type {\n",
       "        vertical-align: middle;\n",
       "    }\n",
       "\n",
       "    .dataframe tbody tr th {\n",
       "        vertical-align: top;\n",
       "    }\n",
       "\n",
       "    .dataframe thead th {\n",
       "        text-align: right;\n",
       "    }\n",
       "</style>\n",
       "<table border=\"1\" class=\"dataframe\">\n",
       "  <thead>\n",
       "    <tr style=\"text-align: right;\">\n",
       "      <th></th>\n",
       "      <th>UserId</th>\n",
       "      <th>Surface</th>\n",
       "    </tr>\n",
       "  </thead>\n",
       "  <tbody>\n",
       "    <tr>\n",
       "      <th>0</th>\n",
       "      <td>1</td>\n",
       "      <td>2</td>\n",
       "    </tr>\n",
       "    <tr>\n",
       "      <th>1</th>\n",
       "      <td>2</td>\n",
       "      <td>3</td>\n",
       "    </tr>\n",
       "    <tr>\n",
       "      <th>2</th>\n",
       "      <td>3</td>\n",
       "      <td>4</td>\n",
       "    </tr>\n",
       "    <tr>\n",
       "      <th>3</th>\n",
       "      <td>4</td>\n",
       "      <td>5</td>\n",
       "    </tr>\n",
       "  </tbody>\n",
       "</table>\n",
       "</div>"
      ],
      "text/plain": [
       "  UserId Surface\n",
       "0      1       2\n",
       "1      2       3\n",
       "2      3       4\n",
       "3      4       5"
      ]
     },
     "execution_count": 15,
     "metadata": {},
     "output_type": "execute_result"
    }
   ],
   "source": [
    "c0"
   ]
  },
  {
   "cell_type": "code",
   "execution_count": 16,
   "metadata": {},
   "outputs": [],
   "source": [
    "clf = SGDClassifier()\n",
    "\n",
    "f = pd.DataFrame(data[0][\"features\"])\n",
    "f = f.reindex(sorted(f.columns), axis=1)\n",
    "\n",
    "c = pd.DataFrame(data[0][\"classes\"]).Surface\n",
    "clf.partial_fit(f, c, classes=c)\n",
    "\n",
    "# df = df.reindex(sorted(df.columns), axis=1)\n",
    "for el in data[1:15]:\n",
    "    f = pd.DataFrame(el[\"features\"])\n",
    "    f = f.reindex(sorted(f.columns), axis=1)\n",
    "    c = pd.DataFrame(el[\"classes\"])\n",
    "\n",
    "    prev = f.columns.values\n",
    "    clf.partial_fit(f, c.Surface)"
   ]
  },
  {
   "cell_type": "code",
   "execution_count": 17,
   "metadata": {},
   "outputs": [
    {
     "name": "stdout",
     "output_type": "stream",
     "text": [
      "['2' '3' '5' '5']\n",
      "['2' '3' '4' '5']\n",
      "\n",
      "\n",
      "['2' '3' '5' '5']\n",
      "['2' '3' '4' '5']\n",
      "\n",
      "\n",
      "['2' '3' '5']\n",
      "['2' '3' '4']\n",
      "\n",
      "\n",
      "['2' '3' '3']\n",
      "['2' '3' '4']\n",
      "\n",
      "\n",
      "['2' '3' '5']\n",
      "['2' '3' '4']\n",
      "\n",
      "\n",
      "['2' '3']\n",
      "['2' '3']\n",
      "\n",
      "\n"
     ]
    }
   ],
   "source": [
    "for el in data[15:]:\n",
    "    f, c = pd.DataFrame(el[\"features\"]), pd.DataFrame(el[\"classes\"])\n",
    "    f = f.reindex(sorted(f.columns), axis=1)\n",
    "\n",
    "    print(clf.predict(f))\n",
    "    print(c.Surface.values)\n",
    "    print(\"\\n\")"
   ]
  },
  {
   "cell_type": "code",
   "execution_count": 33,
   "metadata": {},
   "outputs": [],
   "source": [
    "record_1 = data[1]\n",
    "features_1 = record_1[\"features\"]\n",
    "classes_1 = record_1[\"classes\"]\n",
    "\n",
    "X_1 = pd.DataFrame(features_1)\n",
    "y_1 = pd.DataFrame(classes_1)"
   ]
  },
  {
   "cell_type": "code",
   "execution_count": 34,
   "metadata": {},
   "outputs": [
    {
     "data": {
      "text/plain": [
       "array(['2', '1', '1', '1'], dtype='<U1')"
      ]
     },
     "execution_count": 34,
     "metadata": {},
     "output_type": "execute_result"
    }
   ],
   "source": [
    "clf.predict(X_1)"
   ]
  },
  {
   "cell_type": "code",
   "execution_count": 24,
   "metadata": {},
   "outputs": [
    {
     "data": {
      "text/html": [
       "<div>\n",
       "<style scoped>\n",
       "    .dataframe tbody tr th:only-of-type {\n",
       "        vertical-align: middle;\n",
       "    }\n",
       "\n",
       "    .dataframe tbody tr th {\n",
       "        vertical-align: top;\n",
       "    }\n",
       "\n",
       "    .dataframe thead th {\n",
       "        text-align: right;\n",
       "    }\n",
       "</style>\n",
       "<table border=\"1\" class=\"dataframe\">\n",
       "  <thead>\n",
       "    <tr style=\"text-align: right;\">\n",
       "      <th></th>\n",
       "      <th>UserId</th>\n",
       "      <th>Surface</th>\n",
       "    </tr>\n",
       "  </thead>\n",
       "  <tbody>\n",
       "    <tr>\n",
       "      <th>0</th>\n",
       "      <td>1</td>\n",
       "      <td>2</td>\n",
       "    </tr>\n",
       "    <tr>\n",
       "      <th>1</th>\n",
       "      <td>2</td>\n",
       "      <td>3</td>\n",
       "    </tr>\n",
       "    <tr>\n",
       "      <th>2</th>\n",
       "      <td>3</td>\n",
       "      <td>4</td>\n",
       "    </tr>\n",
       "    <tr>\n",
       "      <th>3</th>\n",
       "      <td>4</td>\n",
       "      <td>5</td>\n",
       "    </tr>\n",
       "  </tbody>\n",
       "</table>\n",
       "</div>"
      ],
      "text/plain": [
       "  UserId Surface\n",
       "0      1       2\n",
       "1      2       3\n",
       "2      3       4\n",
       "3      4       5"
      ]
     },
     "execution_count": 24,
     "metadata": {},
     "output_type": "execute_result"
    }
   ],
   "source": [
    "y_1"
   ]
  },
  {
   "cell_type": "code",
   "execution_count": null,
   "metadata": {},
   "outputs": [],
   "source": []
  }
 ],
 "metadata": {
  "kernelspec": {
   "display_name": "Python 3.8.13 ('.venv': venv)",
   "language": "python",
   "name": "python3"
  },
  "language_info": {
   "codemirror_mode": {
    "name": "ipython",
    "version": 3
   },
   "file_extension": ".py",
   "mimetype": "text/x-python",
   "name": "python",
   "nbconvert_exporter": "python",
   "pygments_lexer": "ipython3",
   "version": "3.8.13"
  },
  "orig_nbformat": 4,
  "vscode": {
   "interpreter": {
    "hash": "92bd8bd25c05ef314ef395e10be39201570d805b53f7b1a0d5090a008ecb46cd"
   }
  }
 },
 "nbformat": 4,
 "nbformat_minor": 2
}
